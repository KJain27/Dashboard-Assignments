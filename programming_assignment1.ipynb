{
 "cells": [
  {
   "cell_type": "markdown",
   "id": "7e00283c-c3da-4dbf-9161-8630ab170800",
   "metadata": {},
   "source": [
    "1.\tWrite a Python program to print \"Hello Python\"?"
   ]
  },
  {
   "cell_type": "code",
   "execution_count": 1,
   "id": "efab873c-615b-4b4c-8b0b-031709678dea",
   "metadata": {},
   "outputs": [
    {
     "name": "stdout",
     "output_type": "stream",
     "text": [
      "Hello Python\n"
     ]
    }
   ],
   "source": [
    "print('Hello Python')"
   ]
  },
  {
   "cell_type": "markdown",
   "id": "e6d78398-742f-4ca0-8a82-4072caeb2071",
   "metadata": {},
   "source": [
    "2.\tWrite a Python program to do arithmetical operations addition and division.?"
   ]
  },
  {
   "cell_type": "code",
   "execution_count": 3,
   "id": "0dd5b5b3-f2f7-45c7-aa04-4ef786983a48",
   "metadata": {},
   "outputs": [
    {
     "name": "stdin",
     "output_type": "stream",
     "text": [
      "enter 1st number: 10\n",
      "enter 2nd number: 5\n"
     ]
    },
    {
     "name": "stdout",
     "output_type": "stream",
     "text": [
      "sum: 15\n",
      "division: 2.0\n"
     ]
    }
   ],
   "source": [
    "a = int(input('enter 1st number:'))\n",
    "b = int(input('enter 2nd number:'))\n",
    "print('sum:',a+b)\n",
    "print('division:',a/b)"
   ]
  },
  {
   "cell_type": "markdown",
   "id": "ce243c91-11dc-4607-abad-710370138498",
   "metadata": {},
   "source": [
    "3.\tWrite a Python program to find the area of a triangle?"
   ]
  },
  {
   "cell_type": "code",
   "execution_count": 4,
   "id": "1c84c51d-2313-442e-8770-3d5e1d009491",
   "metadata": {},
   "outputs": [
    {
     "name": "stdin",
     "output_type": "stream",
     "text": [
      "enter the base: 10\n",
      "enter the height: 5\n"
     ]
    },
    {
     "name": "stdout",
     "output_type": "stream",
     "text": [
      "area of triangle is: 25.0\n"
     ]
    }
   ],
   "source": [
    "b = int(input('enter the base:'))\n",
    "h = int(input('enter the height:'))\n",
    "print('area of triangle is:',(b*h)/2)"
   ]
  },
  {
   "cell_type": "markdown",
   "id": "0100c6ad-ce82-4af8-97bd-4d11d59d5cab",
   "metadata": {},
   "source": [
    "4.\tWrite a Python program to swap two variables?"
   ]
  },
  {
   "cell_type": "code",
   "execution_count": 9,
   "id": "dba02a87-37ce-4482-bfb7-c7dd68595aa8",
   "metadata": {},
   "outputs": [
    {
     "name": "stdin",
     "output_type": "stream",
     "text": [
      "enter 2 numbers:  5 9\n"
     ]
    },
    {
     "name": "stdout",
     "output_type": "stream",
     "text": [
      "before swapping number a 5 and b is 9\n",
      "after swapping number a 9 and b is 5\n"
     ]
    }
   ],
   "source": [
    "a,b = input('enter 2 numbers: ').split()\n",
    "print(f'before swapping number a {int(a)} and b is {int(b)}')\n",
    "a,b = b,a\n",
    "print(f'after swapping number a {int(a)} and b is {int(b)}')"
   ]
  },
  {
   "cell_type": "markdown",
   "id": "f4742d61-9bcc-44a8-9375-c4413a309e96",
   "metadata": {},
   "source": [
    "5.\tWrite a Python program to generate a random number?"
   ]
  },
  {
   "cell_type": "code",
   "execution_count": 15,
   "id": "907535ed-5ee5-4689-b108-70993cbcbf40",
   "metadata": {},
   "outputs": [
    {
     "name": "stdout",
     "output_type": "stream",
     "text": [
      "199\n"
     ]
    }
   ],
   "source": [
    "import random\n",
    "num = random.randint(0,1000)\n",
    "print(num)"
   ]
  },
  {
   "cell_type": "code",
   "execution_count": null,
   "id": "0cd51a24-1540-4ed2-8de2-c3ae6eb1af29",
   "metadata": {},
   "outputs": [],
   "source": []
  }
 ],
 "metadata": {
  "kernelspec": {
   "display_name": "Python 3 (ipykernel)",
   "language": "python",
   "name": "python3"
  },
  "language_info": {
   "codemirror_mode": {
    "name": "ipython",
    "version": 3
   },
   "file_extension": ".py",
   "mimetype": "text/x-python",
   "name": "python",
   "nbconvert_exporter": "python",
   "pygments_lexer": "ipython3",
   "version": "3.10.6"
  }
 },
 "nbformat": 4,
 "nbformat_minor": 5
}
