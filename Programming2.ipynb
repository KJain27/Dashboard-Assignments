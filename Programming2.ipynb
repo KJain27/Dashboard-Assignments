{
 "cells": [
  {
   "cell_type": "markdown",
   "id": "d585d695-143a-4559-897c-b0b031b390c2",
   "metadata": {},
   "source": [
    "1.\tWrite a Python program to convert kilometers to miles?"
   ]
  },
  {
   "cell_type": "code",
   "execution_count": 2,
   "id": "caea1ea7-5fb4-475b-918d-48acd9f1168e",
   "metadata": {},
   "outputs": [
    {
     "name": "stdin",
     "output_type": "stream",
     "text": [
      "enter value in kilometers:  2\n"
     ]
    },
    {
     "name": "stdout",
     "output_type": "stream",
     "text": [
      "kilometers 2 into miles is equal to 1.242742\n"
     ]
    }
   ],
   "source": [
    "km = float(input('enter value in kilometers: '))\n",
    "conv_value = 0.621371\n",
    "miles = km*conv_value\n",
    "print(f'kilometers {km} into miles is equal to {miles}')"
   ]
  },
  {
   "cell_type": "markdown",
   "id": "b0b7983c-5660-4cb5-9948-01974379de40",
   "metadata": {},
   "source": [
    "2.\tWrite a Python program to convert Celsius to Fahrenheit?"
   ]
  },
  {
   "cell_type": "code",
   "execution_count": 4,
   "id": "e7f3ba2d-a506-46f2-bab2-e7eedd54b1ac",
   "metadata": {},
   "outputs": [
    {
     "name": "stdin",
     "output_type": "stream",
     "text": [
      "enter degree in Celsius:  3\n"
     ]
    },
    {
     "name": "stdout",
     "output_type": "stream",
     "text": [
      "Degree is Celsius 3.0 is equal to 37.4 in Fahrenheit\n"
     ]
    }
   ],
   "source": [
    "C = float(input('enter degree in Celsius: '))\n",
    "F = (C*9/5)+32\n",
    "print(f'Degree is Celsius {C} is equal to {F} in Fahrenheit')"
   ]
  },
  {
   "cell_type": "markdown",
   "id": "7d7140fd-7a57-4322-a723-790b12a09d6a",
   "metadata": {},
   "source": [
    "3.\tWrite a Python program to display calendar?"
   ]
  },
  {
   "cell_type": "code",
   "execution_count": 5,
   "id": "f2cafac0-e79f-4c92-87fc-5859069a3e25",
   "metadata": {},
   "outputs": [],
   "source": [
    "import calendar"
   ]
  },
  {
   "cell_type": "code",
   "execution_count": 7,
   "id": "6487a97a-1295-470e-8926-a9da58eb2e2d",
   "metadata": {},
   "outputs": [
    {
     "name": "stdin",
     "output_type": "stream",
     "text": [
      "enter the year yyyy :  2023\n",
      "enter the month mm:  03\n"
     ]
    },
    {
     "name": "stdout",
     "output_type": "stream",
     "text": [
      "     March 2023\n",
      "Mo Tu We Th Fr Sa Su\n",
      "       1  2  3  4  5\n",
      " 6  7  8  9 10 11 12\n",
      "13 14 15 16 17 18 19\n",
      "20 21 22 23 24 25 26\n",
      "27 28 29 30 31\n",
      "\n"
     ]
    }
   ],
   "source": [
    "yr = int(input('enter the year yyyy : '))\n",
    "mn = int(input('enter the month mm: '))\n",
    "print(calendar.month(yr,mn))"
   ]
  },
  {
   "cell_type": "markdown",
   "id": "3f32eb81-c7aa-4ba0-bc0f-7135d9d02287",
   "metadata": {},
   "source": [
    "4.\tWrite a Python program to solve quadratic equation?"
   ]
  },
  {
   "cell_type": "code",
   "execution_count": 8,
   "id": "75bb56ad-696a-4c1f-b7eb-bf080731c70f",
   "metadata": {},
   "outputs": [],
   "source": [
    "import cmath"
   ]
  },
  {
   "cell_type": "code",
   "execution_count": 9,
   "id": "f3b5cffe-904a-47f4-84fa-5f10151f5b5e",
   "metadata": {},
   "outputs": [
    {
     "name": "stdin",
     "output_type": "stream",
     "text": [
      "Enter a:  8\n",
      "Enter b:  5\n",
      "Enter c:  9\n"
     ]
    },
    {
     "name": "stdout",
     "output_type": "stream",
     "text": [
      "The solution are (-0.3125-1.0135796712641785j) and (-0.3125+1.0135796712641785j)\n"
     ]
    }
   ],
   "source": [
    " a = float(input('Enter a: '))  \n",
    "b = float(input('Enter b: '))  \n",
    "c = float(input('Enter c: '))  \n",
    "  \n",
    "# calculate the discriminant  \n",
    "d = (b**2) - (4*a*c)  \n",
    "  \n",
    "# find two solutions  \n",
    "sol1 = (-b-cmath.sqrt(d))/(2*a)  \n",
    "sol2 = (-b+cmath.sqrt(d))/(2*a)  \n",
    "print('The solution are {0} and {1}'.format(sol1,sol2))   "
   ]
  },
  {
   "cell_type": "markdown",
   "id": "6a427baf-8559-4f26-b6f8-f09d6cf45442",
   "metadata": {},
   "source": [
    "5.\tWrite a Python program to swap two variables without temp variable?"
   ]
  },
  {
   "cell_type": "code",
   "execution_count": 11,
   "id": "3801f278-5c32-4b40-bdc8-3e3f19b08b53",
   "metadata": {},
   "outputs": [
    {
     "name": "stdin",
     "output_type": "stream",
     "text": [
      "enter the 1st number :  4.6\n",
      "enter the 1st number :  8.9\n"
     ]
    },
    {
     "name": "stdout",
     "output_type": "stream",
     "text": [
      "numbers before swap : 4.6 8.9\n",
      "numbers after swap : 8.9 4.6\n"
     ]
    }
   ],
   "source": [
    "a = float(input('enter the 1st number : '))\n",
    "b = float(input('enter the 1st number : '))\n",
    "print(f'numbers before swap : {a} {b}')\n",
    "a,b = b,a\n",
    "print(f'numbers after swap : {a} {b}')"
   ]
  },
  {
   "cell_type": "code",
   "execution_count": null,
   "id": "0c307303-a90a-485e-8661-b7a610ed8907",
   "metadata": {},
   "outputs": [],
   "source": []
  }
 ],
 "metadata": {
  "kernelspec": {
   "display_name": "Python 3 (ipykernel)",
   "language": "python",
   "name": "python3"
  },
  "language_info": {
   "codemirror_mode": {
    "name": "ipython",
    "version": 3
   },
   "file_extension": ".py",
   "mimetype": "text/x-python",
   "name": "python",
   "nbconvert_exporter": "python",
   "pygments_lexer": "ipython3",
   "version": "3.10.6"
  }
 },
 "nbformat": 4,
 "nbformat_minor": 5
}
